{
 "cells": [
  {
   "cell_type": "code",
   "execution_count": 85,
   "id": "bc27c8a8",
   "metadata": {},
   "outputs": [
    {
     "ename": "ModuleNotFoundError",
     "evalue": "No module named 'random.Random'; 'random' is not a package",
     "output_type": "error",
     "traceback": [
      "\u001b[1;31m---------------------------------------------------------------------------\u001b[0m",
      "\u001b[1;31mModuleNotFoundError\u001b[0m                       Traceback (most recent call last)",
      "\u001b[1;32m<ipython-input-85-a6a1a4c8a521>\u001b[0m in \u001b[0;36m<module>\u001b[1;34m\u001b[0m\n\u001b[0;32m      1\u001b[0m \u001b[1;32mimport\u001b[0m \u001b[0mnumpy\u001b[0m \u001b[1;32mas\u001b[0m \u001b[0mnp\u001b[0m\u001b[1;33m\u001b[0m\u001b[1;33m\u001b[0m\u001b[0m\n\u001b[1;32m----> 2\u001b[1;33m \u001b[1;32mimport\u001b[0m \u001b[0mrandom\u001b[0m\u001b[1;33m.\u001b[0m\u001b[0mRandom\u001b[0m\u001b[1;33m\u001b[0m\u001b[1;33m\u001b[0m\u001b[0m\n\u001b[0m\u001b[0;32m      3\u001b[0m \u001b[1;32mimport\u001b[0m \u001b[0mpandas\u001b[0m \u001b[1;32mas\u001b[0m \u001b[0mpd\u001b[0m\u001b[1;33m\u001b[0m\u001b[1;33m\u001b[0m\u001b[0m\n\u001b[0;32m      4\u001b[0m \u001b[1;32mfrom\u001b[0m \u001b[0msklearn\u001b[0m\u001b[1;33m.\u001b[0m\u001b[0mdatasets\u001b[0m \u001b[1;32mimport\u001b[0m \u001b[0mmake_classification\u001b[0m\u001b[1;33m\u001b[0m\u001b[1;33m\u001b[0m\u001b[0m\n",
      "\u001b[1;31mModuleNotFoundError\u001b[0m: No module named 'random.Random'; 'random' is not a package"
     ]
    }
   ],
   "source": [
    "import numpy as np\n",
    "import pandas as pd\n",
    "from sklearn.datasets import make_classification"
   ]
  },
  {
   "cell_type": "code",
   "execution_count": 18,
   "id": "32bcb0ae",
   "metadata": {},
   "outputs": [],
   "source": [
    "X,y = make_classification(n_features=5, n_redundant=0, n_informative=5,n_clusters_per_class=1,random_state=5)"
   ]
  },
  {
   "cell_type": "code",
   "execution_count": 19,
   "id": "e8ff4ccc",
   "metadata": {},
   "outputs": [
    {
     "name": "stdout",
     "output_type": "stream",
     "text": [
      "(100, 6)\n"
     ]
    },
    {
     "data": {
      "text/html": [
       "<div>\n",
       "<style scoped>\n",
       "    .dataframe tbody tr th:only-of-type {\n",
       "        vertical-align: middle;\n",
       "    }\n",
       "\n",
       "    .dataframe tbody tr th {\n",
       "        vertical-align: top;\n",
       "    }\n",
       "\n",
       "    .dataframe thead th {\n",
       "        text-align: right;\n",
       "    }\n",
       "</style>\n",
       "<table border=\"1\" class=\"dataframe\">\n",
       "  <thead>\n",
       "    <tr style=\"text-align: right;\">\n",
       "      <th></th>\n",
       "      <th>col1</th>\n",
       "      <th>col2</th>\n",
       "      <th>col3</th>\n",
       "      <th>col4</th>\n",
       "      <th>col5</th>\n",
       "      <th>target</th>\n",
       "    </tr>\n",
       "  </thead>\n",
       "  <tbody>\n",
       "    <tr>\n",
       "      <th>0</th>\n",
       "      <td>-1.121660</td>\n",
       "      <td>-1.348986</td>\n",
       "      <td>0.000979</td>\n",
       "      <td>1.014254</td>\n",
       "      <td>-1.599263</td>\n",
       "      <td>1</td>\n",
       "    </tr>\n",
       "    <tr>\n",
       "      <th>1</th>\n",
       "      <td>1.659876</td>\n",
       "      <td>-1.971824</td>\n",
       "      <td>-0.136807</td>\n",
       "      <td>0.293809</td>\n",
       "      <td>0.128575</td>\n",
       "      <td>0</td>\n",
       "    </tr>\n",
       "    <tr>\n",
       "      <th>2</th>\n",
       "      <td>1.456569</td>\n",
       "      <td>-1.363260</td>\n",
       "      <td>1.220083</td>\n",
       "      <td>1.337143</td>\n",
       "      <td>0.345040</td>\n",
       "      <td>0</td>\n",
       "    </tr>\n",
       "    <tr>\n",
       "      <th>3</th>\n",
       "      <td>-3.095970</td>\n",
       "      <td>0.606867</td>\n",
       "      <td>0.209768</td>\n",
       "      <td>3.118665</td>\n",
       "      <td>-0.886965</td>\n",
       "      <td>1</td>\n",
       "    </tr>\n",
       "    <tr>\n",
       "      <th>4</th>\n",
       "      <td>1.291644</td>\n",
       "      <td>-0.157602</td>\n",
       "      <td>-0.174554</td>\n",
       "      <td>0.382067</td>\n",
       "      <td>0.241007</td>\n",
       "      <td>0</td>\n",
       "    </tr>\n",
       "  </tbody>\n",
       "</table>\n",
       "</div>"
      ],
      "text/plain": [
       "       col1      col2      col3      col4      col5  target\n",
       "0 -1.121660 -1.348986  0.000979  1.014254 -1.599263       1\n",
       "1  1.659876 -1.971824 -0.136807  0.293809  0.128575       0\n",
       "2  1.456569 -1.363260  1.220083  1.337143  0.345040       0\n",
       "3 -3.095970  0.606867  0.209768  3.118665 -0.886965       1\n",
       "4  1.291644 -0.157602 -0.174554  0.382067  0.241007       0"
      ]
     },
     "execution_count": 19,
     "metadata": {},
     "output_type": "execute_result"
    }
   ],
   "source": [
    "df = pd.DataFrame(X,columns=['col1','col2','col3','col4','col5'])\n",
    "df['target'] = y\n",
    "print(df.shape)\n",
    "df.head()"
   ]
  },
  {
   "cell_type": "code",
   "execution_count": 20,
   "id": "77bdce8e",
   "metadata": {},
   "outputs": [],
   "source": [
    "# function for row sampling\n",
    "\n",
    "def sample_rows(df,percent):\n",
    "  return df.sample(int(percent*df.shape[0]),replace=True)"
   ]
  },
  {
   "cell_type": "code",
   "execution_count": 25,
   "id": "4f4d7797",
   "metadata": {},
   "outputs": [
    {
     "data": {
      "text/html": [
       "<div>\n",
       "<style scoped>\n",
       "    .dataframe tbody tr th:only-of-type {\n",
       "        vertical-align: middle;\n",
       "    }\n",
       "\n",
       "    .dataframe tbody tr th {\n",
       "        vertical-align: top;\n",
       "    }\n",
       "\n",
       "    .dataframe thead th {\n",
       "        text-align: right;\n",
       "    }\n",
       "</style>\n",
       "<table border=\"1\" class=\"dataframe\">\n",
       "  <thead>\n",
       "    <tr style=\"text-align: right;\">\n",
       "      <th></th>\n",
       "      <th>col1</th>\n",
       "      <th>col2</th>\n",
       "      <th>col3</th>\n",
       "      <th>col4</th>\n",
       "      <th>col5</th>\n",
       "      <th>target</th>\n",
       "    </tr>\n",
       "  </thead>\n",
       "  <tbody>\n",
       "    <tr>\n",
       "      <th>50</th>\n",
       "      <td>-0.646480</td>\n",
       "      <td>-1.141091</td>\n",
       "      <td>2.834445</td>\n",
       "      <td>2.696466</td>\n",
       "      <td>-2.884083</td>\n",
       "      <td>1</td>\n",
       "    </tr>\n",
       "    <tr>\n",
       "      <th>86</th>\n",
       "      <td>-1.584555</td>\n",
       "      <td>-0.226864</td>\n",
       "      <td>0.919681</td>\n",
       "      <td>0.232321</td>\n",
       "      <td>-0.384343</td>\n",
       "      <td>1</td>\n",
       "    </tr>\n",
       "    <tr>\n",
       "      <th>56</th>\n",
       "      <td>-2.452556</td>\n",
       "      <td>-1.003052</td>\n",
       "      <td>0.908985</td>\n",
       "      <td>1.693305</td>\n",
       "      <td>-2.492039</td>\n",
       "      <td>1</td>\n",
       "    </tr>\n",
       "    <tr>\n",
       "      <th>22</th>\n",
       "      <td>2.591455</td>\n",
       "      <td>-0.864094</td>\n",
       "      <td>-1.287892</td>\n",
       "      <td>-0.836362</td>\n",
       "      <td>1.947255</td>\n",
       "      <td>0</td>\n",
       "    </tr>\n",
       "    <tr>\n",
       "      <th>50</th>\n",
       "      <td>-0.646480</td>\n",
       "      <td>-1.141091</td>\n",
       "      <td>2.834445</td>\n",
       "      <td>2.696466</td>\n",
       "      <td>-2.884083</td>\n",
       "      <td>1</td>\n",
       "    </tr>\n",
       "    <tr>\n",
       "      <th>19</th>\n",
       "      <td>1.353841</td>\n",
       "      <td>0.466463</td>\n",
       "      <td>-0.776783</td>\n",
       "      <td>-0.483321</td>\n",
       "      <td>1.275857</td>\n",
       "      <td>0</td>\n",
       "    </tr>\n",
       "    <tr>\n",
       "      <th>28</th>\n",
       "      <td>1.028424</td>\n",
       "      <td>-2.319798</td>\n",
       "      <td>1.611269</td>\n",
       "      <td>-0.414405</td>\n",
       "      <td>-0.770323</td>\n",
       "      <td>1</td>\n",
       "    </tr>\n",
       "    <tr>\n",
       "      <th>66</th>\n",
       "      <td>-2.032053</td>\n",
       "      <td>-1.041524</td>\n",
       "      <td>0.565383</td>\n",
       "      <td>1.459951</td>\n",
       "      <td>-0.657779</td>\n",
       "      <td>1</td>\n",
       "    </tr>\n",
       "    <tr>\n",
       "      <th>99</th>\n",
       "      <td>2.047613</td>\n",
       "      <td>-0.328921</td>\n",
       "      <td>-1.261697</td>\n",
       "      <td>-0.397880</td>\n",
       "      <td>0.822125</td>\n",
       "      <td>0</td>\n",
       "    </tr>\n",
       "    <tr>\n",
       "      <th>87</th>\n",
       "      <td>1.449246</td>\n",
       "      <td>-1.344260</td>\n",
       "      <td>-0.936372</td>\n",
       "      <td>-0.687520</td>\n",
       "      <td>0.841495</td>\n",
       "      <td>0</td>\n",
       "    </tr>\n",
       "    <tr>\n",
       "      <th>90</th>\n",
       "      <td>-2.676386</td>\n",
       "      <td>-3.373191</td>\n",
       "      <td>0.038216</td>\n",
       "      <td>0.839331</td>\n",
       "      <td>-0.426475</td>\n",
       "      <td>1</td>\n",
       "    </tr>\n",
       "    <tr>\n",
       "      <th>39</th>\n",
       "      <td>1.547138</td>\n",
       "      <td>-1.657964</td>\n",
       "      <td>-2.228183</td>\n",
       "      <td>-0.639208</td>\n",
       "      <td>-1.107082</td>\n",
       "      <td>0</td>\n",
       "    </tr>\n",
       "    <tr>\n",
       "      <th>57</th>\n",
       "      <td>0.492496</td>\n",
       "      <td>-2.580403</td>\n",
       "      <td>0.655258</td>\n",
       "      <td>1.335065</td>\n",
       "      <td>-1.961930</td>\n",
       "      <td>1</td>\n",
       "    </tr>\n",
       "    <tr>\n",
       "      <th>2</th>\n",
       "      <td>1.456569</td>\n",
       "      <td>-1.363260</td>\n",
       "      <td>1.220083</td>\n",
       "      <td>1.337143</td>\n",
       "      <td>0.345040</td>\n",
       "      <td>0</td>\n",
       "    </tr>\n",
       "    <tr>\n",
       "      <th>7</th>\n",
       "      <td>-1.425270</td>\n",
       "      <td>-0.080952</td>\n",
       "      <td>-0.598783</td>\n",
       "      <td>-0.058537</td>\n",
       "      <td>1.278286</td>\n",
       "      <td>1</td>\n",
       "    </tr>\n",
       "    <tr>\n",
       "      <th>72</th>\n",
       "      <td>1.770366</td>\n",
       "      <td>0.183213</td>\n",
       "      <td>-2.782346</td>\n",
       "      <td>-2.026052</td>\n",
       "      <td>1.551937</td>\n",
       "      <td>0</td>\n",
       "    </tr>\n",
       "    <tr>\n",
       "      <th>57</th>\n",
       "      <td>0.492496</td>\n",
       "      <td>-2.580403</td>\n",
       "      <td>0.655258</td>\n",
       "      <td>1.335065</td>\n",
       "      <td>-1.961930</td>\n",
       "      <td>1</td>\n",
       "    </tr>\n",
       "    <tr>\n",
       "      <th>6</th>\n",
       "      <td>-4.138207</td>\n",
       "      <td>-0.658895</td>\n",
       "      <td>-0.260309</td>\n",
       "      <td>0.504426</td>\n",
       "      <td>0.292027</td>\n",
       "      <td>1</td>\n",
       "    </tr>\n",
       "    <tr>\n",
       "      <th>95</th>\n",
       "      <td>3.138533</td>\n",
       "      <td>-2.777977</td>\n",
       "      <td>-2.312641</td>\n",
       "      <td>-0.364443</td>\n",
       "      <td>-0.617943</td>\n",
       "      <td>0</td>\n",
       "    </tr>\n",
       "    <tr>\n",
       "      <th>33</th>\n",
       "      <td>-0.256383</td>\n",
       "      <td>-0.799733</td>\n",
       "      <td>-0.968429</td>\n",
       "      <td>-1.447243</td>\n",
       "      <td>0.784978</td>\n",
       "      <td>0</td>\n",
       "    </tr>\n",
       "    <tr>\n",
       "      <th>16</th>\n",
       "      <td>1.603954</td>\n",
       "      <td>-2.106535</td>\n",
       "      <td>-1.829098</td>\n",
       "      <td>-1.887959</td>\n",
       "      <td>1.603976</td>\n",
       "      <td>0</td>\n",
       "    </tr>\n",
       "    <tr>\n",
       "      <th>3</th>\n",
       "      <td>-3.095970</td>\n",
       "      <td>0.606867</td>\n",
       "      <td>0.209768</td>\n",
       "      <td>3.118665</td>\n",
       "      <td>-0.886965</td>\n",
       "      <td>1</td>\n",
       "    </tr>\n",
       "    <tr>\n",
       "      <th>14</th>\n",
       "      <td>1.048003</td>\n",
       "      <td>1.657967</td>\n",
       "      <td>-1.018651</td>\n",
       "      <td>-2.129653</td>\n",
       "      <td>4.111933</td>\n",
       "      <td>0</td>\n",
       "    </tr>\n",
       "    <tr>\n",
       "      <th>1</th>\n",
       "      <td>1.659876</td>\n",
       "      <td>-1.971824</td>\n",
       "      <td>-0.136807</td>\n",
       "      <td>0.293809</td>\n",
       "      <td>0.128575</td>\n",
       "      <td>0</td>\n",
       "    </tr>\n",
       "    <tr>\n",
       "      <th>27</th>\n",
       "      <td>-0.008769</td>\n",
       "      <td>-1.138110</td>\n",
       "      <td>2.021936</td>\n",
       "      <td>0.908676</td>\n",
       "      <td>-0.554922</td>\n",
       "      <td>1</td>\n",
       "    </tr>\n",
       "    <tr>\n",
       "      <th>2</th>\n",
       "      <td>1.456569</td>\n",
       "      <td>-1.363260</td>\n",
       "      <td>1.220083</td>\n",
       "      <td>1.337143</td>\n",
       "      <td>0.345040</td>\n",
       "      <td>0</td>\n",
       "    </tr>\n",
       "    <tr>\n",
       "      <th>45</th>\n",
       "      <td>0.317077</td>\n",
       "      <td>-0.255639</td>\n",
       "      <td>-2.794669</td>\n",
       "      <td>-2.043197</td>\n",
       "      <td>-0.083714</td>\n",
       "      <td>0</td>\n",
       "    </tr>\n",
       "    <tr>\n",
       "      <th>13</th>\n",
       "      <td>0.505757</td>\n",
       "      <td>-1.630574</td>\n",
       "      <td>1.360960</td>\n",
       "      <td>0.819195</td>\n",
       "      <td>-2.056688</td>\n",
       "      <td>1</td>\n",
       "    </tr>\n",
       "    <tr>\n",
       "      <th>3</th>\n",
       "      <td>-3.095970</td>\n",
       "      <td>0.606867</td>\n",
       "      <td>0.209768</td>\n",
       "      <td>3.118665</td>\n",
       "      <td>-0.886965</td>\n",
       "      <td>1</td>\n",
       "    </tr>\n",
       "    <tr>\n",
       "      <th>25</th>\n",
       "      <td>-2.672788</td>\n",
       "      <td>-0.764456</td>\n",
       "      <td>-0.141322</td>\n",
       "      <td>0.749395</td>\n",
       "      <td>0.506067</td>\n",
       "      <td>1</td>\n",
       "    </tr>\n",
       "  </tbody>\n",
       "</table>\n",
       "</div>"
      ],
      "text/plain": [
       "        col1      col2      col3      col4      col5  target\n",
       "50 -0.646480 -1.141091  2.834445  2.696466 -2.884083       1\n",
       "86 -1.584555 -0.226864  0.919681  0.232321 -0.384343       1\n",
       "56 -2.452556 -1.003052  0.908985  1.693305 -2.492039       1\n",
       "22  2.591455 -0.864094 -1.287892 -0.836362  1.947255       0\n",
       "50 -0.646480 -1.141091  2.834445  2.696466 -2.884083       1\n",
       "19  1.353841  0.466463 -0.776783 -0.483321  1.275857       0\n",
       "28  1.028424 -2.319798  1.611269 -0.414405 -0.770323       1\n",
       "66 -2.032053 -1.041524  0.565383  1.459951 -0.657779       1\n",
       "99  2.047613 -0.328921 -1.261697 -0.397880  0.822125       0\n",
       "87  1.449246 -1.344260 -0.936372 -0.687520  0.841495       0\n",
       "90 -2.676386 -3.373191  0.038216  0.839331 -0.426475       1\n",
       "39  1.547138 -1.657964 -2.228183 -0.639208 -1.107082       0\n",
       "57  0.492496 -2.580403  0.655258  1.335065 -1.961930       1\n",
       "2   1.456569 -1.363260  1.220083  1.337143  0.345040       0\n",
       "7  -1.425270 -0.080952 -0.598783 -0.058537  1.278286       1\n",
       "72  1.770366  0.183213 -2.782346 -2.026052  1.551937       0\n",
       "57  0.492496 -2.580403  0.655258  1.335065 -1.961930       1\n",
       "6  -4.138207 -0.658895 -0.260309  0.504426  0.292027       1\n",
       "95  3.138533 -2.777977 -2.312641 -0.364443 -0.617943       0\n",
       "33 -0.256383 -0.799733 -0.968429 -1.447243  0.784978       0\n",
       "16  1.603954 -2.106535 -1.829098 -1.887959  1.603976       0\n",
       "3  -3.095970  0.606867  0.209768  3.118665 -0.886965       1\n",
       "14  1.048003  1.657967 -1.018651 -2.129653  4.111933       0\n",
       "1   1.659876 -1.971824 -0.136807  0.293809  0.128575       0\n",
       "27 -0.008769 -1.138110  2.021936  0.908676 -0.554922       1\n",
       "2   1.456569 -1.363260  1.220083  1.337143  0.345040       0\n",
       "45  0.317077 -0.255639 -2.794669 -2.043197 -0.083714       0\n",
       "13  0.505757 -1.630574  1.360960  0.819195 -2.056688       1\n",
       "3  -3.095970  0.606867  0.209768  3.118665 -0.886965       1\n",
       "25 -2.672788 -0.764456 -0.141322  0.749395  0.506067       1"
      ]
     },
     "execution_count": 25,
     "metadata": {},
     "output_type": "execute_result"
    }
   ],
   "source": [
    "sample_rows(df,0.3)"
   ]
  },
  {
   "cell_type": "code",
   "execution_count": 86,
   "id": "2970e542",
   "metadata": {},
   "outputs": [],
   "source": [
    "# function for feature sampling\n",
    "import random\n",
    "def sample_features(df,percent):\n",
    "  cols = random.sample(df.columns.tolist()[:-1],int(percent*(df.shape[1]-1)))\n",
    "  new_df = df[cols]\n",
    "  new_df['target'] = df['target']\n",
    "  return new_df"
   ]
  },
  {
   "cell_type": "code",
   "execution_count": 87,
   "id": "25ea86db",
   "metadata": {},
   "outputs": [],
   "source": [
    "# function for combined sampling\n",
    "\n",
    "def combined_sampling(df,row_percent,col_percent):\n",
    "  new_df = sample_rows(df,row_percent)\n",
    "  return sample_features(new_df,col_percent)"
   ]
  },
  {
   "cell_type": "code",
   "execution_count": 95,
   "id": "2dd7883a",
   "metadata": {},
   "outputs": [
    {
     "name": "stderr",
     "output_type": "stream",
     "text": [
      "<ipython-input-86-6f80f89253cf>:6: SettingWithCopyWarning: \n",
      "A value is trying to be set on a copy of a slice from a DataFrame.\n",
      "Try using .loc[row_indexer,col_indexer] = value instead\n",
      "\n",
      "See the caveats in the documentation: https://pandas.pydata.org/pandas-docs/stable/user_guide/indexing.html#returning-a-view-versus-a-copy\n",
      "  new_df['target'] = df['target']\n"
     ]
    }
   ],
   "source": [
    "df1 = sample_features(df,0.8)"
   ]
  },
  {
   "cell_type": "code",
   "execution_count": 96,
   "id": "70d36900",
   "metadata": {},
   "outputs": [
    {
     "name": "stderr",
     "output_type": "stream",
     "text": [
      "<ipython-input-86-6f80f89253cf>:6: SettingWithCopyWarning: \n",
      "A value is trying to be set on a copy of a slice from a DataFrame.\n",
      "Try using .loc[row_indexer,col_indexer] = value instead\n",
      "\n",
      "See the caveats in the documentation: https://pandas.pydata.org/pandas-docs/stable/user_guide/indexing.html#returning-a-view-versus-a-copy\n",
      "  new_df['target'] = df['target']\n"
     ]
    }
   ],
   "source": [
    "df2 = sample_features(df,0.8)"
   ]
  },
  {
   "cell_type": "code",
   "execution_count": 97,
   "id": "96cb8601",
   "metadata": {},
   "outputs": [
    {
     "name": "stderr",
     "output_type": "stream",
     "text": [
      "<ipython-input-86-6f80f89253cf>:6: SettingWithCopyWarning: \n",
      "A value is trying to be set on a copy of a slice from a DataFrame.\n",
      "Try using .loc[row_indexer,col_indexer] = value instead\n",
      "\n",
      "See the caveats in the documentation: https://pandas.pydata.org/pandas-docs/stable/user_guide/indexing.html#returning-a-view-versus-a-copy\n",
      "  new_df['target'] = df['target']\n"
     ]
    }
   ],
   "source": [
    "df3 = sample_features(df,0.8)"
   ]
  },
  {
   "cell_type": "code",
   "execution_count": 115,
   "id": "5d86ccfe",
   "metadata": {},
   "outputs": [
    {
     "name": "stdout",
     "output_type": "stream",
     "text": [
      "Index(['col5', 'col4', 'col2', 'col3', 'target'], dtype='object')\n",
      "Index(['col1', 'col4', 'col5', 'col3', 'target'], dtype='object')\n",
      "Index(['col4', 'col1', 'col2', 'col3', 'target'], dtype='object')\n"
     ]
    }
   ],
   "source": [
    "print(df1.columns)\n",
    "print(df2.columns)\n",
    "print(df3.columns)"
   ]
  },
  {
   "cell_type": "code",
   "execution_count": 103,
   "id": "ce1b847e",
   "metadata": {},
   "outputs": [
    {
     "data": {
      "text/plain": [
       "(100, 5)"
      ]
     },
     "execution_count": 103,
     "metadata": {},
     "output_type": "execute_result"
    }
   ],
   "source": [
    "df1.shape"
   ]
  },
  {
   "cell_type": "code",
   "execution_count": 104,
   "id": "d5da64bf",
   "metadata": {},
   "outputs": [
    {
     "data": {
      "text/plain": [
       "(100, 5)"
      ]
     },
     "execution_count": 104,
     "metadata": {},
     "output_type": "execute_result"
    }
   ],
   "source": [
    "df2.shape"
   ]
  },
  {
   "cell_type": "code",
   "execution_count": 105,
   "id": "78cd7f7b",
   "metadata": {},
   "outputs": [
    {
     "data": {
      "text/plain": [
       "(100, 5)"
      ]
     },
     "execution_count": 105,
     "metadata": {},
     "output_type": "execute_result"
    }
   ],
   "source": [
    "df3.shape"
   ]
  },
  {
   "cell_type": "code",
   "execution_count": 106,
   "id": "3372f822",
   "metadata": {},
   "outputs": [],
   "source": [
    "from sklearn.tree import DecisionTreeClassifier\n",
    "clf1 = DecisionTreeClassifier()\n",
    "clf2 = DecisionTreeClassifier()\n",
    "clf3 = DecisionTreeClassifier()"
   ]
  },
  {
   "cell_type": "code",
   "execution_count": 110,
   "id": "d5e124ec",
   "metadata": {},
   "outputs": [
    {
     "data": {
      "text/html": [
       "<style>#sk-container-id-7 {color: black;background-color: white;}#sk-container-id-7 pre{padding: 0;}#sk-container-id-7 div.sk-toggleable {background-color: white;}#sk-container-id-7 label.sk-toggleable__label {cursor: pointer;display: block;width: 100%;margin-bottom: 0;padding: 0.3em;box-sizing: border-box;text-align: center;}#sk-container-id-7 label.sk-toggleable__label-arrow:before {content: \"▸\";float: left;margin-right: 0.25em;color: #696969;}#sk-container-id-7 label.sk-toggleable__label-arrow:hover:before {color: black;}#sk-container-id-7 div.sk-estimator:hover label.sk-toggleable__label-arrow:before {color: black;}#sk-container-id-7 div.sk-toggleable__content {max-height: 0;max-width: 0;overflow: hidden;text-align: left;background-color: #f0f8ff;}#sk-container-id-7 div.sk-toggleable__content pre {margin: 0.2em;color: black;border-radius: 0.25em;background-color: #f0f8ff;}#sk-container-id-7 input.sk-toggleable__control:checked~div.sk-toggleable__content {max-height: 200px;max-width: 100%;overflow: auto;}#sk-container-id-7 input.sk-toggleable__control:checked~label.sk-toggleable__label-arrow:before {content: \"▾\";}#sk-container-id-7 div.sk-estimator input.sk-toggleable__control:checked~label.sk-toggleable__label {background-color: #d4ebff;}#sk-container-id-7 div.sk-label input.sk-toggleable__control:checked~label.sk-toggleable__label {background-color: #d4ebff;}#sk-container-id-7 input.sk-hidden--visually {border: 0;clip: rect(1px 1px 1px 1px);clip: rect(1px, 1px, 1px, 1px);height: 1px;margin: -1px;overflow: hidden;padding: 0;position: absolute;width: 1px;}#sk-container-id-7 div.sk-estimator {font-family: monospace;background-color: #f0f8ff;border: 1px dotted black;border-radius: 0.25em;box-sizing: border-box;margin-bottom: 0.5em;}#sk-container-id-7 div.sk-estimator:hover {background-color: #d4ebff;}#sk-container-id-7 div.sk-parallel-item::after {content: \"\";width: 100%;border-bottom: 1px solid gray;flex-grow: 1;}#sk-container-id-7 div.sk-label:hover label.sk-toggleable__label {background-color: #d4ebff;}#sk-container-id-7 div.sk-serial::before {content: \"\";position: absolute;border-left: 1px solid gray;box-sizing: border-box;top: 0;bottom: 0;left: 50%;z-index: 0;}#sk-container-id-7 div.sk-serial {display: flex;flex-direction: column;align-items: center;background-color: white;padding-right: 0.2em;padding-left: 0.2em;position: relative;}#sk-container-id-7 div.sk-item {position: relative;z-index: 1;}#sk-container-id-7 div.sk-parallel {display: flex;align-items: stretch;justify-content: center;background-color: white;position: relative;}#sk-container-id-7 div.sk-item::before, #sk-container-id-7 div.sk-parallel-item::before {content: \"\";position: absolute;border-left: 1px solid gray;box-sizing: border-box;top: 0;bottom: 0;left: 50%;z-index: -1;}#sk-container-id-7 div.sk-parallel-item {display: flex;flex-direction: column;z-index: 1;position: relative;background-color: white;}#sk-container-id-7 div.sk-parallel-item:first-child::after {align-self: flex-end;width: 50%;}#sk-container-id-7 div.sk-parallel-item:last-child::after {align-self: flex-start;width: 50%;}#sk-container-id-7 div.sk-parallel-item:only-child::after {width: 0;}#sk-container-id-7 div.sk-dashed-wrapped {border: 1px dashed gray;margin: 0 0.4em 0.5em 0.4em;box-sizing: border-box;padding-bottom: 0.4em;background-color: white;}#sk-container-id-7 div.sk-label label {font-family: monospace;font-weight: bold;display: inline-block;line-height: 1.2em;}#sk-container-id-7 div.sk-label-container {text-align: center;}#sk-container-id-7 div.sk-container {/* jupyter's `normalize.less` sets `[hidden] { display: none; }` but bootstrap.min.css set `[hidden] { display: none !important; }` so we also need the `!important` here to be able to override the default hidden behavior on the sphinx rendered scikit-learn.org. See: https://github.com/scikit-learn/scikit-learn/issues/21755 */display: inline-block !important;position: relative;}#sk-container-id-7 div.sk-text-repr-fallback {display: none;}</style><div id=\"sk-container-id-7\" class=\"sk-top-container\"><div class=\"sk-text-repr-fallback\"><pre>DecisionTreeClassifier()</pre><b>In a Jupyter environment, please rerun this cell to show the HTML representation or trust the notebook. <br />On GitHub, the HTML representation is unable to render, please try loading this page with nbviewer.org.</b></div><div class=\"sk-container\" hidden><div class=\"sk-item\"><div class=\"sk-estimator sk-toggleable\"><input class=\"sk-toggleable__control sk-hidden--visually\" id=\"sk-estimator-id-7\" type=\"checkbox\" checked><label for=\"sk-estimator-id-7\" class=\"sk-toggleable__label sk-toggleable__label-arrow\">DecisionTreeClassifier</label><div class=\"sk-toggleable__content\"><pre>DecisionTreeClassifier()</pre></div></div></div></div></div>"
      ],
      "text/plain": [
       "DecisionTreeClassifier()"
      ]
     },
     "execution_count": 110,
     "metadata": {},
     "output_type": "execute_result"
    }
   ],
   "source": [
    "clf1.fit(df1.iloc[:,0:4],df1.iloc[:,-1])\n",
    "clf2.fit(df2.iloc[:,0:4],df2.iloc[:,-1])\n",
    "clf3.fit(df3.iloc[:,0:4],df3.iloc[:,-1])"
   ]
  },
  {
   "cell_type": "code",
   "execution_count": 111,
   "id": "4e9b5d4a",
   "metadata": {},
   "outputs": [],
   "source": [
    "from sklearn.tree import plot_tree"
   ]
  },
  {
   "cell_type": "code",
   "execution_count": 112,
   "id": "28b7998b",
   "metadata": {},
   "outputs": [
    {
     "data": {
      "text/plain": [
       "[Text(0.4642857142857143, 0.9285714285714286, 'x[1] <= 0.443\\ngini = 0.5\\nsamples = 100\\nvalue = [50, 50]'),\n",
       " Text(0.21428571428571427, 0.7857142857142857, 'x[3] <= 0.365\\ngini = 0.348\\nsamples = 58\\nvalue = [45, 13]'),\n",
       " Text(0.14285714285714285, 0.6428571428571429, 'x[1] <= -0.601\\ngini = 0.081\\nsamples = 47\\nvalue = [45, 2]'),\n",
       " Text(0.07142857142857142, 0.5, 'gini = 0.0\\nsamples = 32\\nvalue = [32, 0]'),\n",
       " Text(0.21428571428571427, 0.5, 'x[0] <= 1.277\\ngini = 0.231\\nsamples = 15\\nvalue = [13, 2]'),\n",
       " Text(0.14285714285714285, 0.35714285714285715, 'gini = 0.0\\nsamples = 13\\nvalue = [13, 0]'),\n",
       " Text(0.2857142857142857, 0.35714285714285715, 'gini = 0.0\\nsamples = 2\\nvalue = [0, 2]'),\n",
       " Text(0.2857142857142857, 0.6428571428571429, 'gini = 0.0\\nsamples = 11\\nvalue = [0, 11]'),\n",
       " Text(0.7142857142857143, 0.7857142857142857, 'x[0] <= 0.319\\ngini = 0.21\\nsamples = 42\\nvalue = [5, 37]'),\n",
       " Text(0.5714285714285714, 0.6428571428571429, 'x[3] <= 0.544\\ngini = 0.108\\nsamples = 35\\nvalue = [2, 33]'),\n",
       " Text(0.5, 0.5, 'x[3] <= 0.366\\ngini = 0.26\\nsamples = 13\\nvalue = [2, 11]'),\n",
       " Text(0.42857142857142855, 0.35714285714285715, 'x[1] <= 0.812\\ngini = 0.153\\nsamples = 12\\nvalue = [1, 11]'),\n",
       " Text(0.35714285714285715, 0.21428571428571427, 'x[0] <= -0.395\\ngini = 0.5\\nsamples = 2\\nvalue = [1, 1]'),\n",
       " Text(0.2857142857142857, 0.07142857142857142, 'gini = 0.0\\nsamples = 1\\nvalue = [1, 0]'),\n",
       " Text(0.42857142857142855, 0.07142857142857142, 'gini = 0.0\\nsamples = 1\\nvalue = [0, 1]'),\n",
       " Text(0.5, 0.21428571428571427, 'gini = 0.0\\nsamples = 10\\nvalue = [0, 10]'),\n",
       " Text(0.5714285714285714, 0.35714285714285715, 'gini = 0.0\\nsamples = 1\\nvalue = [1, 0]'),\n",
       " Text(0.6428571428571429, 0.5, 'gini = 0.0\\nsamples = 22\\nvalue = [0, 22]'),\n",
       " Text(0.8571428571428571, 0.6428571428571429, 'x[2] <= -1.064\\ngini = 0.49\\nsamples = 7\\nvalue = [3, 4]'),\n",
       " Text(0.7857142857142857, 0.5, 'gini = 0.0\\nsamples = 3\\nvalue = [3, 0]'),\n",
       " Text(0.9285714285714286, 0.5, 'gini = 0.0\\nsamples = 4\\nvalue = [0, 4]')]"
      ]
     },
     "execution_count": 112,
     "metadata": {},
     "output_type": "execute_result"
    },
    {
     "data": {
      "image/png": "[encoded data removed]",
      "text/plain": [
       "<Figure size 432x288 with 1 Axes>"
      ]
     },
     "metadata": {
      "needs_background": "light"
     },
     "output_type": "display_data"
    }
   ],
   "source": [
    "plot_tree(clf1)"
   ]
  },
  {
   "cell_type": "code",
   "execution_count": 113,
   "id": "a99951f6",
   "metadata": {},
   "outputs": [
    {
     "data": {
      "text/plain": [
       "[Text(0.4583333333333333, 0.9, 'x[1] <= 0.443\\ngini = 0.5\\nsamples = 100\\nvalue = [50, 50]'),\n",
       " Text(0.25, 0.7, 'x[3] <= 0.365\\ngini = 0.348\\nsamples = 58\\nvalue = [45, 13]'),\n",
       " Text(0.16666666666666666, 0.5, 'x[0] <= -1.377\\ngini = 0.081\\nsamples = 47\\nvalue = [45, 2]'),\n",
       " Text(0.08333333333333333, 0.3, 'gini = 0.0\\nsamples = 2\\nvalue = [0, 2]'),\n",
       " Text(0.25, 0.3, 'gini = 0.0\\nsamples = 45\\nvalue = [45, 0]'),\n",
       " Text(0.3333333333333333, 0.5, 'gini = 0.0\\nsamples = 11\\nvalue = [0, 11]'),\n",
       " Text(0.6666666666666666, 0.7, 'x[0] <= 1.312\\ngini = 0.21\\nsamples = 42\\nvalue = [5, 37]'),\n",
       " Text(0.5, 0.5, 'x[2] <= 1.045\\ngini = 0.059\\nsamples = 33\\nvalue = [1, 32]'),\n",
       " Text(0.4166666666666667, 0.3, 'gini = 0.0\\nsamples = 31\\nvalue = [0, 31]'),\n",
       " Text(0.5833333333333334, 0.3, 'x[1] <= 0.668\\ngini = 0.5\\nsamples = 2\\nvalue = [1, 1]'),\n",
       " Text(0.5, 0.1, 'gini = 0.0\\nsamples = 1\\nvalue = [0, 1]'),\n",
       " Text(0.6666666666666666, 0.1, 'gini = 0.0\\nsamples = 1\\nvalue = [1, 0]'),\n",
       " Text(0.8333333333333334, 0.5, 'x[3] <= 1.614\\ngini = 0.494\\nsamples = 9\\nvalue = [4, 5]'),\n",
       " Text(0.75, 0.3, 'gini = 0.0\\nsamples = 4\\nvalue = [4, 0]'),\n",
       " Text(0.9166666666666666, 0.3, 'gini = 0.0\\nsamples = 5\\nvalue = [0, 5]')]"
      ]
     },
     "execution_count": 113,
     "metadata": {},
     "output_type": "execute_result"
    },
    {
     "data": {
      "image/png": "[encoded data removed]",
      "text/plain": [
       "<Figure size 432x288 with 1 Axes>"
      ]
     },
     "metadata": {
      "needs_background": "light"
     },
     "output_type": "display_data"
    }
   ],
   "source": [
    "plot_tree(clf2)"
   ]
  },
  {
   "cell_type": "code",
   "execution_count": 114,
   "id": "e9226e42",
   "metadata": {},
   "outputs": [
    {
     "data": {
      "text/plain": [
       "[Text(0.4583333333333333, 0.9, 'x[0] <= 0.443\\ngini = 0.5\\nsamples = 100\\nvalue = [50, 50]'),\n",
       " Text(0.25, 0.7, 'x[3] <= 0.365\\ngini = 0.348\\nsamples = 58\\nvalue = [45, 13]'),\n",
       " Text(0.16666666666666666, 0.5, 'x[1] <= -1.377\\ngini = 0.081\\nsamples = 47\\nvalue = [45, 2]'),\n",
       " Text(0.08333333333333333, 0.3, 'gini = 0.0\\nsamples = 2\\nvalue = [0, 2]'),\n",
       " Text(0.25, 0.3, 'gini = 0.0\\nsamples = 45\\nvalue = [45, 0]'),\n",
       " Text(0.3333333333333333, 0.5, 'gini = 0.0\\nsamples = 11\\nvalue = [0, 11]'),\n",
       " Text(0.6666666666666666, 0.7, 'x[1] <= 1.312\\ngini = 0.21\\nsamples = 42\\nvalue = [5, 37]'),\n",
       " Text(0.5, 0.5, 'x[0] <= 0.713\\ngini = 0.059\\nsamples = 33\\nvalue = [1, 32]'),\n",
       " Text(0.4166666666666667, 0.3, 'x[2] <= -1.318\\ngini = 0.444\\nsamples = 3\\nvalue = [1, 2]'),\n",
       " Text(0.3333333333333333, 0.1, 'gini = 0.0\\nsamples = 1\\nvalue = [1, 0]'),\n",
       " Text(0.5, 0.1, 'gini = 0.0\\nsamples = 2\\nvalue = [0, 2]'),\n",
       " Text(0.5833333333333334, 0.3, 'gini = 0.0\\nsamples = 30\\nvalue = [0, 30]'),\n",
       " Text(0.8333333333333334, 0.5, 'x[3] <= 1.614\\ngini = 0.494\\nsamples = 9\\nvalue = [4, 5]'),\n",
       " Text(0.75, 0.3, 'gini = 0.0\\nsamples = 4\\nvalue = [4, 0]'),\n",
       " Text(0.9166666666666666, 0.3, 'gini = 0.0\\nsamples = 5\\nvalue = [0, 5]')]"
      ]
     },
     "execution_count": 114,
     "metadata": {},
     "output_type": "execute_result"
    },
    {
     "data": {
      "image/png": "[encoded data removed]",
      "text/plain": [
       "<Figure size 432x288 with 1 Axes>"
      ]
     },
     "metadata": {
      "needs_background": "light"
     },
     "output_type": "display_data"
    }
   ],
   "source": [
    "\n",
    "plot_tree(clf3)"
   ]
  },
  {
   "cell_type": "code",
   "execution_count": 116,
   "id": "3beaa976",
   "metadata": {},
   "outputs": [
    {
     "name": "stderr",
     "output_type": "stream",
     "text": [
      "C:\\Users\\OM\\anaconda3\\lib\\site-packages\\sklearn\\base.py:439: UserWarning: X does not have valid feature names, but DecisionTreeClassifier was fitted with feature names\n",
      "  warnings.warn(\n"
     ]
    },
    {
     "data": {
      "text/plain": [
       "array([0])"
      ]
     },
     "execution_count": 116,
     "metadata": {},
     "output_type": "execute_result"
    }
   ],
   "source": [
    "clf1.predict(np.array([1.042498,-0.062147,-0.965487,-.054218]).reshape(1,4))"
   ]
  },
  {
   "cell_type": "code",
   "execution_count": 118,
   "id": "61878336",
   "metadata": {},
   "outputs": [
    {
     "name": "stderr",
     "output_type": "stream",
     "text": [
      "C:\\Users\\OM\\anaconda3\\lib\\site-packages\\sklearn\\base.py:439: UserWarning: X does not have valid feature names, but DecisionTreeClassifier was fitted with feature names\n",
      "  warnings.warn(\n"
     ]
    },
    {
     "data": {
      "text/plain": [
       "array([0])"
      ]
     },
     "execution_count": 118,
     "metadata": {},
     "output_type": "execute_result"
    }
   ],
   "source": [
    "clf2.predict(np.array([1.042498,-0.062147,-0.965487,-.054218]).reshape(1,4))"
   ]
  },
  {
   "cell_type": "code",
   "execution_count": 120,
   "id": "c383dbb3",
   "metadata": {},
   "outputs": [
    {
     "name": "stderr",
     "output_type": "stream",
     "text": [
      "C:\\Users\\OM\\anaconda3\\lib\\site-packages\\sklearn\\base.py:439: UserWarning: X does not have valid feature names, but DecisionTreeClassifier was fitted with feature names\n",
      "  warnings.warn(\n"
     ]
    },
    {
     "data": {
      "text/plain": [
       "array([1])"
      ]
     },
     "execution_count": 120,
     "metadata": {},
     "output_type": "execute_result"
    }
   ],
   "source": [
    "clf3.predict(np.array([1.042498,-0.062147,-0.965487,-.054218]).reshape(1,4))"
   ]
  },
  {
   "cell_type": "code",
   "execution_count": 121,
   "id": "e0df18c0",
   "metadata": {},
   "outputs": [
    {
     "data": {
      "text/html": [
       "<div>\n",
       "<style scoped>\n",
       "    .dataframe tbody tr th:only-of-type {\n",
       "        vertical-align: middle;\n",
       "    }\n",
       "\n",
       "    .dataframe tbody tr th {\n",
       "        vertical-align: top;\n",
       "    }\n",
       "\n",
       "    .dataframe thead th {\n",
       "        text-align: right;\n",
       "    }\n",
       "</style>\n",
       "<table border=\"1\" class=\"dataframe\">\n",
       "  <thead>\n",
       "    <tr style=\"text-align: right;\">\n",
       "      <th></th>\n",
       "      <th>col1</th>\n",
       "      <th>col2</th>\n",
       "      <th>col3</th>\n",
       "      <th>col4</th>\n",
       "      <th>col5</th>\n",
       "      <th>target</th>\n",
       "    </tr>\n",
       "  </thead>\n",
       "  <tbody>\n",
       "    <tr>\n",
       "      <th>93</th>\n",
       "      <td>0.183746</td>\n",
       "      <td>0.794696</td>\n",
       "      <td>-0.489377</td>\n",
       "      <td>0.221472</td>\n",
       "      <td>-0.545401</td>\n",
       "      <td>0</td>\n",
       "    </tr>\n",
       "    <tr>\n",
       "      <th>96</th>\n",
       "      <td>-0.606385</td>\n",
       "      <td>-2.162367</td>\n",
       "      <td>-1.452602</td>\n",
       "      <td>-3.036884</td>\n",
       "      <td>2.027885</td>\n",
       "      <td>0</td>\n",
       "    </tr>\n",
       "    <tr>\n",
       "      <th>37</th>\n",
       "      <td>-0.229793</td>\n",
       "      <td>-1.447017</td>\n",
       "      <td>-2.973562</td>\n",
       "      <td>-5.256152</td>\n",
       "      <td>4.586129</td>\n",
       "      <td>0</td>\n",
       "    </tr>\n",
       "    <tr>\n",
       "      <th>50</th>\n",
       "      <td>-0.646480</td>\n",
       "      <td>-1.141091</td>\n",
       "      <td>2.834445</td>\n",
       "      <td>2.696466</td>\n",
       "      <td>-2.884083</td>\n",
       "      <td>1</td>\n",
       "    </tr>\n",
       "    <tr>\n",
       "      <th>93</th>\n",
       "      <td>0.183746</td>\n",
       "      <td>0.794696</td>\n",
       "      <td>-0.489377</td>\n",
       "      <td>0.221472</td>\n",
       "      <td>-0.545401</td>\n",
       "      <td>0</td>\n",
       "    </tr>\n",
       "    <tr>\n",
       "      <th>79</th>\n",
       "      <td>2.974949</td>\n",
       "      <td>-2.973407</td>\n",
       "      <td>1.856565</td>\n",
       "      <td>0.687686</td>\n",
       "      <td>-3.742561</td>\n",
       "      <td>1</td>\n",
       "    </tr>\n",
       "    <tr>\n",
       "      <th>4</th>\n",
       "      <td>1.291644</td>\n",
       "      <td>-0.157602</td>\n",
       "      <td>-0.174554</td>\n",
       "      <td>0.382067</td>\n",
       "      <td>0.241007</td>\n",
       "      <td>0</td>\n",
       "    </tr>\n",
       "    <tr>\n",
       "      <th>72</th>\n",
       "      <td>1.770366</td>\n",
       "      <td>0.183213</td>\n",
       "      <td>-2.782346</td>\n",
       "      <td>-2.026052</td>\n",
       "      <td>1.551937</td>\n",
       "      <td>0</td>\n",
       "    </tr>\n",
       "    <tr>\n",
       "      <th>74</th>\n",
       "      <td>0.409718</td>\n",
       "      <td>-0.397708</td>\n",
       "      <td>-2.221169</td>\n",
       "      <td>-2.167886</td>\n",
       "      <td>1.007135</td>\n",
       "      <td>0</td>\n",
       "    </tr>\n",
       "    <tr>\n",
       "      <th>1</th>\n",
       "      <td>1.659876</td>\n",
       "      <td>-1.971824</td>\n",
       "      <td>-0.136807</td>\n",
       "      <td>0.293809</td>\n",
       "      <td>0.128575</td>\n",
       "      <td>0</td>\n",
       "    </tr>\n",
       "    <tr>\n",
       "      <th>20</th>\n",
       "      <td>-1.329082</td>\n",
       "      <td>-1.251559</td>\n",
       "      <td>-0.390950</td>\n",
       "      <td>-2.420674</td>\n",
       "      <td>2.092750</td>\n",
       "      <td>0</td>\n",
       "    </tr>\n",
       "    <tr>\n",
       "      <th>50</th>\n",
       "      <td>-0.646480</td>\n",
       "      <td>-1.141091</td>\n",
       "      <td>2.834445</td>\n",
       "      <td>2.696466</td>\n",
       "      <td>-2.884083</td>\n",
       "      <td>1</td>\n",
       "    </tr>\n",
       "    <tr>\n",
       "      <th>40</th>\n",
       "      <td>1.066608</td>\n",
       "      <td>-0.410057</td>\n",
       "      <td>-1.847660</td>\n",
       "      <td>-2.787624</td>\n",
       "      <td>3.366271</td>\n",
       "      <td>0</td>\n",
       "    </tr>\n",
       "    <tr>\n",
       "      <th>28</th>\n",
       "      <td>1.028424</td>\n",
       "      <td>-2.319798</td>\n",
       "      <td>1.611269</td>\n",
       "      <td>-0.414405</td>\n",
       "      <td>-0.770323</td>\n",
       "      <td>1</td>\n",
       "    </tr>\n",
       "  </tbody>\n",
       "</table>\n",
       "</div>"
      ],
      "text/plain": [
       "        col1      col2      col3      col4      col5  target\n",
       "93  0.183746  0.794696 -0.489377  0.221472 -0.545401       0\n",
       "96 -0.606385 -2.162367 -1.452602 -3.036884  2.027885       0\n",
       "37 -0.229793 -1.447017 -2.973562 -5.256152  4.586129       0\n",
       "50 -0.646480 -1.141091  2.834445  2.696466 -2.884083       1\n",
       "93  0.183746  0.794696 -0.489377  0.221472 -0.545401       0\n",
       "79  2.974949 -2.973407  1.856565  0.687686 -3.742561       1\n",
       "4   1.291644 -0.157602 -0.174554  0.382067  0.241007       0\n",
       "72  1.770366  0.183213 -2.782346 -2.026052  1.551937       0\n",
       "74  0.409718 -0.397708 -2.221169 -2.167886  1.007135       0\n",
       "1   1.659876 -1.971824 -0.136807  0.293809  0.128575       0\n",
       "20 -1.329082 -1.251559 -0.390950 -2.420674  2.092750       0\n",
       "50 -0.646480 -1.141091  2.834445  2.696466 -2.884083       1\n",
       "40  1.066608 -0.410057 -1.847660 -2.787624  3.366271       0\n",
       "28  1.028424 -2.319798  1.611269 -0.414405 -0.770323       1"
      ]
     },
     "execution_count": 121,
     "metadata": {},
     "output_type": "execute_result"
    }
   ],
   "source": [
    "df.sample(14,replace=True)"
   ]
  },
  {
   "cell_type": "code",
   "execution_count": 122,
   "id": "31750c06",
   "metadata": {},
   "outputs": [
    {
     "name": "stderr",
     "output_type": "stream",
     "text": [
      "<ipython-input-86-6f80f89253cf>:6: SettingWithCopyWarning: \n",
      "A value is trying to be set on a copy of a slice from a DataFrame.\n",
      "Try using .loc[row_indexer,col_indexer] = value instead\n",
      "\n",
      "See the caveats in the documentation: https://pandas.pydata.org/pandas-docs/stable/user_guide/indexing.html#returning-a-view-versus-a-copy\n",
      "  new_df['target'] = df['target']\n"
     ]
    }
   ],
   "source": [
    "df1 = combined_sampling(df,0.5,0.5)"
   ]
  },
  {
   "cell_type": "code",
   "execution_count": 123,
   "id": "0b4a000b",
   "metadata": {},
   "outputs": [
    {
     "name": "stderr",
     "output_type": "stream",
     "text": [
      "<ipython-input-86-6f80f89253cf>:6: SettingWithCopyWarning: \n",
      "A value is trying to be set on a copy of a slice from a DataFrame.\n",
      "Try using .loc[row_indexer,col_indexer] = value instead\n",
      "\n",
      "See the caveats in the documentation: https://pandas.pydata.org/pandas-docs/stable/user_guide/indexing.html#returning-a-view-versus-a-copy\n",
      "  new_df['target'] = df['target']\n"
     ]
    }
   ],
   "source": [
    "df2 = combined_sampling(df,0.5,0.5)"
   ]
  },
  {
   "cell_type": "code",
   "execution_count": 124,
   "id": "82f3aeb1",
   "metadata": {},
   "outputs": [
    {
     "name": "stderr",
     "output_type": "stream",
     "text": [
      "<ipython-input-86-6f80f89253cf>:6: SettingWithCopyWarning: \n",
      "A value is trying to be set on a copy of a slice from a DataFrame.\n",
      "Try using .loc[row_indexer,col_indexer] = value instead\n",
      "\n",
      "See the caveats in the documentation: https://pandas.pydata.org/pandas-docs/stable/user_guide/indexing.html#returning-a-view-versus-a-copy\n",
      "  new_df['target'] = df['target']\n"
     ]
    }
   ],
   "source": [
    "\n",
    "df3 = combined_sampling(df,0.5,0.5)"
   ]
  },
  {
   "cell_type": "code",
   "execution_count": 125,
   "id": "a2d07ebe",
   "metadata": {},
   "outputs": [
    {
     "name": "stdout",
     "output_type": "stream",
     "text": [
      "Index(['col4', 'col1', 'target'], dtype='object')\n",
      "Index(['col2', 'col5', 'target'], dtype='object')\n",
      "Index(['col2', 'col3', 'target'], dtype='object')\n"
     ]
    }
   ],
   "source": [
    "print(df1.columns)\n",
    "print(df2.columns)\n",
    "print(df3.columns)"
   ]
  },
  {
   "cell_type": "code",
   "execution_count": 126,
   "id": "78132bde",
   "metadata": {},
   "outputs": [
    {
     "data": {
      "text/html": [
       "<div>\n",
       "<style scoped>\n",
       "    .dataframe tbody tr th:only-of-type {\n",
       "        vertical-align: middle;\n",
       "    }\n",
       "\n",
       "    .dataframe tbody tr th {\n",
       "        vertical-align: top;\n",
       "    }\n",
       "\n",
       "    .dataframe thead th {\n",
       "        text-align: right;\n",
       "    }\n",
       "</style>\n",
       "<table border=\"1\" class=\"dataframe\">\n",
       "  <thead>\n",
       "    <tr style=\"text-align: right;\">\n",
       "      <th></th>\n",
       "      <th>col2</th>\n",
       "      <th>col3</th>\n",
       "      <th>target</th>\n",
       "    </tr>\n",
       "  </thead>\n",
       "  <tbody>\n",
       "    <tr>\n",
       "      <th>7</th>\n",
       "      <td>-0.080952</td>\n",
       "      <td>-0.598783</td>\n",
       "      <td>1</td>\n",
       "    </tr>\n",
       "    <tr>\n",
       "      <th>42</th>\n",
       "      <td>-2.033256</td>\n",
       "      <td>-1.137038</td>\n",
       "      <td>0</td>\n",
       "    </tr>\n",
       "    <tr>\n",
       "      <th>75</th>\n",
       "      <td>-0.730443</td>\n",
       "      <td>3.012831</td>\n",
       "      <td>1</td>\n",
       "    </tr>\n",
       "    <tr>\n",
       "      <th>93</th>\n",
       "      <td>0.794696</td>\n",
       "      <td>-0.489377</td>\n",
       "      <td>0</td>\n",
       "    </tr>\n",
       "    <tr>\n",
       "      <th>7</th>\n",
       "      <td>-0.080952</td>\n",
       "      <td>-0.598783</td>\n",
       "      <td>1</td>\n",
       "    </tr>\n",
       "    <tr>\n",
       "      <th>84</th>\n",
       "      <td>-4.218862</td>\n",
       "      <td>-0.645581</td>\n",
       "      <td>0</td>\n",
       "    </tr>\n",
       "    <tr>\n",
       "      <th>2</th>\n",
       "      <td>-1.363260</td>\n",
       "      <td>1.220083</td>\n",
       "      <td>0</td>\n",
       "    </tr>\n",
       "    <tr>\n",
       "      <th>42</th>\n",
       "      <td>-2.033256</td>\n",
       "      <td>-1.137038</td>\n",
       "      <td>0</td>\n",
       "    </tr>\n",
       "    <tr>\n",
       "      <th>0</th>\n",
       "      <td>-1.348986</td>\n",
       "      <td>0.000979</td>\n",
       "      <td>1</td>\n",
       "    </tr>\n",
       "    <tr>\n",
       "      <th>4</th>\n",
       "      <td>-0.157602</td>\n",
       "      <td>-0.174554</td>\n",
       "      <td>0</td>\n",
       "    </tr>\n",
       "    <tr>\n",
       "      <th>9</th>\n",
       "      <td>-0.435327</td>\n",
       "      <td>3.280140</td>\n",
       "      <td>1</td>\n",
       "    </tr>\n",
       "    <tr>\n",
       "      <th>92</th>\n",
       "      <td>-1.526307</td>\n",
       "      <td>-0.031970</td>\n",
       "      <td>0</td>\n",
       "    </tr>\n",
       "    <tr>\n",
       "      <th>12</th>\n",
       "      <td>-0.931006</td>\n",
       "      <td>0.010214</td>\n",
       "      <td>0</td>\n",
       "    </tr>\n",
       "    <tr>\n",
       "      <th>6</th>\n",
       "      <td>-0.658895</td>\n",
       "      <td>-0.260309</td>\n",
       "      <td>1</td>\n",
       "    </tr>\n",
       "    <tr>\n",
       "      <th>43</th>\n",
       "      <td>-2.493838</td>\n",
       "      <td>0.769520</td>\n",
       "      <td>1</td>\n",
       "    </tr>\n",
       "    <tr>\n",
       "      <th>89</th>\n",
       "      <td>-0.819316</td>\n",
       "      <td>0.956832</td>\n",
       "      <td>1</td>\n",
       "    </tr>\n",
       "    <tr>\n",
       "      <th>71</th>\n",
       "      <td>-0.294520</td>\n",
       "      <td>-0.855839</td>\n",
       "      <td>0</td>\n",
       "    </tr>\n",
       "    <tr>\n",
       "      <th>13</th>\n",
       "      <td>-1.630574</td>\n",
       "      <td>1.360960</td>\n",
       "      <td>1</td>\n",
       "    </tr>\n",
       "    <tr>\n",
       "      <th>74</th>\n",
       "      <td>-0.397708</td>\n",
       "      <td>-2.221169</td>\n",
       "      <td>0</td>\n",
       "    </tr>\n",
       "    <tr>\n",
       "      <th>39</th>\n",
       "      <td>-1.657964</td>\n",
       "      <td>-2.228183</td>\n",
       "      <td>0</td>\n",
       "    </tr>\n",
       "    <tr>\n",
       "      <th>61</th>\n",
       "      <td>-0.128013</td>\n",
       "      <td>1.177070</td>\n",
       "      <td>1</td>\n",
       "    </tr>\n",
       "    <tr>\n",
       "      <th>25</th>\n",
       "      <td>-0.764456</td>\n",
       "      <td>-0.141322</td>\n",
       "      <td>1</td>\n",
       "    </tr>\n",
       "    <tr>\n",
       "      <th>95</th>\n",
       "      <td>-2.777977</td>\n",
       "      <td>-2.312641</td>\n",
       "      <td>0</td>\n",
       "    </tr>\n",
       "    <tr>\n",
       "      <th>71</th>\n",
       "      <td>-0.294520</td>\n",
       "      <td>-0.855839</td>\n",
       "      <td>0</td>\n",
       "    </tr>\n",
       "    <tr>\n",
       "      <th>65</th>\n",
       "      <td>-2.991954</td>\n",
       "      <td>-1.407793</td>\n",
       "      <td>0</td>\n",
       "    </tr>\n",
       "    <tr>\n",
       "      <th>13</th>\n",
       "      <td>-1.630574</td>\n",
       "      <td>1.360960</td>\n",
       "      <td>1</td>\n",
       "    </tr>\n",
       "    <tr>\n",
       "      <th>0</th>\n",
       "      <td>-1.348986</td>\n",
       "      <td>0.000979</td>\n",
       "      <td>1</td>\n",
       "    </tr>\n",
       "    <tr>\n",
       "      <th>38</th>\n",
       "      <td>0.512020</td>\n",
       "      <td>2.113576</td>\n",
       "      <td>1</td>\n",
       "    </tr>\n",
       "    <tr>\n",
       "      <th>62</th>\n",
       "      <td>-1.323065</td>\n",
       "      <td>-2.051393</td>\n",
       "      <td>0</td>\n",
       "    </tr>\n",
       "    <tr>\n",
       "      <th>9</th>\n",
       "      <td>-0.435327</td>\n",
       "      <td>3.280140</td>\n",
       "      <td>1</td>\n",
       "    </tr>\n",
       "    <tr>\n",
       "      <th>0</th>\n",
       "      <td>-1.348986</td>\n",
       "      <td>0.000979</td>\n",
       "      <td>1</td>\n",
       "    </tr>\n",
       "    <tr>\n",
       "      <th>96</th>\n",
       "      <td>-2.162367</td>\n",
       "      <td>-1.452602</td>\n",
       "      <td>0</td>\n",
       "    </tr>\n",
       "    <tr>\n",
       "      <th>77</th>\n",
       "      <td>-1.396366</td>\n",
       "      <td>-0.235677</td>\n",
       "      <td>1</td>\n",
       "    </tr>\n",
       "    <tr>\n",
       "      <th>57</th>\n",
       "      <td>-2.580403</td>\n",
       "      <td>0.655258</td>\n",
       "      <td>1</td>\n",
       "    </tr>\n",
       "    <tr>\n",
       "      <th>32</th>\n",
       "      <td>0.148544</td>\n",
       "      <td>-1.278478</td>\n",
       "      <td>0</td>\n",
       "    </tr>\n",
       "    <tr>\n",
       "      <th>31</th>\n",
       "      <td>-1.126825</td>\n",
       "      <td>2.051165</td>\n",
       "      <td>1</td>\n",
       "    </tr>\n",
       "    <tr>\n",
       "      <th>86</th>\n",
       "      <td>-0.226864</td>\n",
       "      <td>0.919681</td>\n",
       "      <td>1</td>\n",
       "    </tr>\n",
       "    <tr>\n",
       "      <th>66</th>\n",
       "      <td>-1.041524</td>\n",
       "      <td>0.565383</td>\n",
       "      <td>1</td>\n",
       "    </tr>\n",
       "    <tr>\n",
       "      <th>14</th>\n",
       "      <td>1.657967</td>\n",
       "      <td>-1.018651</td>\n",
       "      <td>0</td>\n",
       "    </tr>\n",
       "    <tr>\n",
       "      <th>24</th>\n",
       "      <td>0.217196</td>\n",
       "      <td>1.301264</td>\n",
       "      <td>1</td>\n",
       "    </tr>\n",
       "    <tr>\n",
       "      <th>4</th>\n",
       "      <td>-0.157602</td>\n",
       "      <td>-0.174554</td>\n",
       "      <td>0</td>\n",
       "    </tr>\n",
       "    <tr>\n",
       "      <th>92</th>\n",
       "      <td>-1.526307</td>\n",
       "      <td>-0.031970</td>\n",
       "      <td>0</td>\n",
       "    </tr>\n",
       "    <tr>\n",
       "      <th>62</th>\n",
       "      <td>-1.323065</td>\n",
       "      <td>-2.051393</td>\n",
       "      <td>0</td>\n",
       "    </tr>\n",
       "    <tr>\n",
       "      <th>14</th>\n",
       "      <td>1.657967</td>\n",
       "      <td>-1.018651</td>\n",
       "      <td>0</td>\n",
       "    </tr>\n",
       "    <tr>\n",
       "      <th>88</th>\n",
       "      <td>-0.200872</td>\n",
       "      <td>2.248286</td>\n",
       "      <td>1</td>\n",
       "    </tr>\n",
       "    <tr>\n",
       "      <th>10</th>\n",
       "      <td>0.356780</td>\n",
       "      <td>-0.910973</td>\n",
       "      <td>0</td>\n",
       "    </tr>\n",
       "    <tr>\n",
       "      <th>24</th>\n",
       "      <td>0.217196</td>\n",
       "      <td>1.301264</td>\n",
       "      <td>1</td>\n",
       "    </tr>\n",
       "    <tr>\n",
       "      <th>91</th>\n",
       "      <td>-1.604601</td>\n",
       "      <td>0.275016</td>\n",
       "      <td>0</td>\n",
       "    </tr>\n",
       "    <tr>\n",
       "      <th>33</th>\n",
       "      <td>-0.799733</td>\n",
       "      <td>-0.968429</td>\n",
       "      <td>0</td>\n",
       "    </tr>\n",
       "    <tr>\n",
       "      <th>41</th>\n",
       "      <td>-0.365185</td>\n",
       "      <td>2.140180</td>\n",
       "      <td>1</td>\n",
       "    </tr>\n",
       "  </tbody>\n",
       "</table>\n",
       "</div>"
      ],
      "text/plain": [
       "        col2      col3  target\n",
       "7  -0.080952 -0.598783       1\n",
       "42 -2.033256 -1.137038       0\n",
       "75 -0.730443  3.012831       1\n",
       "93  0.794696 -0.489377       0\n",
       "7  -0.080952 -0.598783       1\n",
       "84 -4.218862 -0.645581       0\n",
       "2  -1.363260  1.220083       0\n",
       "42 -2.033256 -1.137038       0\n",
       "0  -1.348986  0.000979       1\n",
       "4  -0.157602 -0.174554       0\n",
       "9  -0.435327  3.280140       1\n",
       "92 -1.526307 -0.031970       0\n",
       "12 -0.931006  0.010214       0\n",
       "6  -0.658895 -0.260309       1\n",
       "43 -2.493838  0.769520       1\n",
       "89 -0.819316  0.956832       1\n",
       "71 -0.294520 -0.855839       0\n",
       "13 -1.630574  1.360960       1\n",
       "74 -0.397708 -2.221169       0\n",
       "39 -1.657964 -2.228183       0\n",
       "61 -0.128013  1.177070       1\n",
       "25 -0.764456 -0.141322       1\n",
       "95 -2.777977 -2.312641       0\n",
       "71 -0.294520 -0.855839       0\n",
       "65 -2.991954 -1.407793       0\n",
       "13 -1.630574  1.360960       1\n",
       "0  -1.348986  0.000979       1\n",
       "38  0.512020  2.113576       1\n",
       "62 -1.323065 -2.051393       0\n",
       "9  -0.435327  3.280140       1\n",
       "0  -1.348986  0.000979       1\n",
       "96 -2.162367 -1.452602       0\n",
       "77 -1.396366 -0.235677       1\n",
       "57 -2.580403  0.655258       1\n",
       "32  0.148544 -1.278478       0\n",
       "31 -1.126825  2.051165       1\n",
       "86 -0.226864  0.919681       1\n",
       "66 -1.041524  0.565383       1\n",
       "14  1.657967 -1.018651       0\n",
       "24  0.217196  1.301264       1\n",
       "4  -0.157602 -0.174554       0\n",
       "92 -1.526307 -0.031970       0\n",
       "62 -1.323065 -2.051393       0\n",
       "14  1.657967 -1.018651       0\n",
       "88 -0.200872  2.248286       1\n",
       "10  0.356780 -0.910973       0\n",
       "24  0.217196  1.301264       1\n",
       "91 -1.604601  0.275016       0\n",
       "33 -0.799733 -0.968429       0\n",
       "41 -0.365185  2.140180       1"
      ]
     },
     "execution_count": 126,
     "metadata": {},
     "output_type": "execute_result"
    }
   ],
   "source": [
    "df3"
   ]
  },
  {
   "cell_type": "code",
   "execution_count": 127,
   "id": "a70b0403",
   "metadata": {},
   "outputs": [],
   "source": [
    "from sklearn.tree import DecisionTreeClassifier\n",
    "clf1 = DecisionTreeClassifier()\n",
    "clf2 = DecisionTreeClassifier()\n",
    "clf3 = DecisionTreeClassifier()"
   ]
  },
  {
   "cell_type": "code",
   "execution_count": 128,
   "id": "f24cb038",
   "metadata": {},
   "outputs": [
    {
     "data": {
      "text/html": [
       "<style>#sk-container-id-8 {color: black;background-color: white;}#sk-container-id-8 pre{padding: 0;}#sk-container-id-8 div.sk-toggleable {background-color: white;}#sk-container-id-8 label.sk-toggleable__label {cursor: pointer;display: block;width: 100%;margin-bottom: 0;padding: 0.3em;box-sizing: border-box;text-align: center;}#sk-container-id-8 label.sk-toggleable__label-arrow:before {content: \"▸\";float: left;margin-right: 0.25em;color: #696969;}#sk-container-id-8 label.sk-toggleable__label-arrow:hover:before {color: black;}#sk-container-id-8 div.sk-estimator:hover label.sk-toggleable__label-arrow:before {color: black;}#sk-container-id-8 div.sk-toggleable__content {max-height: 0;max-width: 0;overflow: hidden;text-align: left;background-color: #f0f8ff;}#sk-container-id-8 div.sk-toggleable__content pre {margin: 0.2em;color: black;border-radius: 0.25em;background-color: #f0f8ff;}#sk-container-id-8 input.sk-toggleable__control:checked~div.sk-toggleable__content {max-height: 200px;max-width: 100%;overflow: auto;}#sk-container-id-8 input.sk-toggleable__control:checked~label.sk-toggleable__label-arrow:before {content: \"▾\";}#sk-container-id-8 div.sk-estimator input.sk-toggleable__control:checked~label.sk-toggleable__label {background-color: #d4ebff;}#sk-container-id-8 div.sk-label input.sk-toggleable__control:checked~label.sk-toggleable__label {background-color: #d4ebff;}#sk-container-id-8 input.sk-hidden--visually {border: 0;clip: rect(1px 1px 1px 1px);clip: rect(1px, 1px, 1px, 1px);height: 1px;margin: -1px;overflow: hidden;padding: 0;position: absolute;width: 1px;}#sk-container-id-8 div.sk-estimator {font-family: monospace;background-color: #f0f8ff;border: 1px dotted black;border-radius: 0.25em;box-sizing: border-box;margin-bottom: 0.5em;}#sk-container-id-8 div.sk-estimator:hover {background-color: #d4ebff;}#sk-container-id-8 div.sk-parallel-item::after {content: \"\";width: 100%;border-bottom: 1px solid gray;flex-grow: 1;}#sk-container-id-8 div.sk-label:hover label.sk-toggleable__label {background-color: #d4ebff;}#sk-container-id-8 div.sk-serial::before {content: \"\";position: absolute;border-left: 1px solid gray;box-sizing: border-box;top: 0;bottom: 0;left: 50%;z-index: 0;}#sk-container-id-8 div.sk-serial {display: flex;flex-direction: column;align-items: center;background-color: white;padding-right: 0.2em;padding-left: 0.2em;position: relative;}#sk-container-id-8 div.sk-item {position: relative;z-index: 1;}#sk-container-id-8 div.sk-parallel {display: flex;align-items: stretch;justify-content: center;background-color: white;position: relative;}#sk-container-id-8 div.sk-item::before, #sk-container-id-8 div.sk-parallel-item::before {content: \"\";position: absolute;border-left: 1px solid gray;box-sizing: border-box;top: 0;bottom: 0;left: 50%;z-index: -1;}#sk-container-id-8 div.sk-parallel-item {display: flex;flex-direction: column;z-index: 1;position: relative;background-color: white;}#sk-container-id-8 div.sk-parallel-item:first-child::after {align-self: flex-end;width: 50%;}#sk-container-id-8 div.sk-parallel-item:last-child::after {align-self: flex-start;width: 50%;}#sk-container-id-8 div.sk-parallel-item:only-child::after {width: 0;}#sk-container-id-8 div.sk-dashed-wrapped {border: 1px dashed gray;margin: 0 0.4em 0.5em 0.4em;box-sizing: border-box;padding-bottom: 0.4em;background-color: white;}#sk-container-id-8 div.sk-label label {font-family: monospace;font-weight: bold;display: inline-block;line-height: 1.2em;}#sk-container-id-8 div.sk-label-container {text-align: center;}#sk-container-id-8 div.sk-container {/* jupyter's `normalize.less` sets `[hidden] { display: none; }` but bootstrap.min.css set `[hidden] { display: none !important; }` so we also need the `!important` here to be able to override the default hidden behavior on the sphinx rendered scikit-learn.org. See: https://github.com/scikit-learn/scikit-learn/issues/21755 */display: inline-block !important;position: relative;}#sk-container-id-8 div.sk-text-repr-fallback {display: none;}</style><div id=\"sk-container-id-8\" class=\"sk-top-container\"><div class=\"sk-text-repr-fallback\"><pre>DecisionTreeClassifier()</pre><b>In a Jupyter environment, please rerun this cell to show the HTML representation or trust the notebook. <br />On GitHub, the HTML representation is unable to render, please try loading this page with nbviewer.org.</b></div><div class=\"sk-container\" hidden><div class=\"sk-item\"><div class=\"sk-estimator sk-toggleable\"><input class=\"sk-toggleable__control sk-hidden--visually\" id=\"sk-estimator-id-8\" type=\"checkbox\" checked><label for=\"sk-estimator-id-8\" class=\"sk-toggleable__label sk-toggleable__label-arrow\">DecisionTreeClassifier</label><div class=\"sk-toggleable__content\"><pre>DecisionTreeClassifier()</pre></div></div></div></div></div>"
      ],
      "text/plain": [
       "DecisionTreeClassifier()"
      ]
     },
     "execution_count": 128,
     "metadata": {},
     "output_type": "execute_result"
    }
   ],
   "source": [
    "clf1.fit(df1.iloc[:,0:2],df1.iloc[:,-1])\n",
    "clf2.fit(df2.iloc[:,0:2],df2.iloc[:,-1])\n",
    "clf3.fit(df3.iloc[:,0:2],df3.iloc[:,-1])"
   ]
  },
  {
   "cell_type": "code",
   "execution_count": 129,
   "id": "09451f42",
   "metadata": {},
   "outputs": [],
   "source": [
    "from sklearn.tree import plot_tree"
   ]
  },
  {
   "cell_type": "code",
   "execution_count": 130,
   "id": "b28b2ecb",
   "metadata": {},
   "outputs": [
    {
     "data": {
      "text/plain": [
       "[Text(0.5, 0.9285714285714286, 'x[0] <= 0.535\\ngini = 0.499\\nsamples = 50\\nvalue = [26, 24]'),\n",
       " Text(0.3, 0.7857142857142857, 'x[1] <= -0.856\\ngini = 0.32\\nsamples = 30\\nvalue = [24, 6]'),\n",
       " Text(0.2, 0.6428571428571429, 'gini = 0.0\\nsamples = 3\\nvalue = [0, 3]'),\n",
       " Text(0.4, 0.6428571428571429, 'x[1] <= 1.048\\ngini = 0.198\\nsamples = 27\\nvalue = [24, 3]'),\n",
       " Text(0.3, 0.5, 'x[1] <= 0.958\\ngini = 0.42\\nsamples = 10\\nvalue = [7, 3]'),\n",
       " Text(0.2, 0.35714285714285715, 'x[0] <= -0.021\\ngini = 0.219\\nsamples = 8\\nvalue = [7, 1]'),\n",
       " Text(0.1, 0.21428571428571427, 'gini = 0.0\\nsamples = 6\\nvalue = [6, 0]'),\n",
       " Text(0.3, 0.21428571428571427, 'x[0] <= 0.12\\ngini = 0.5\\nsamples = 2\\nvalue = [1, 1]'),\n",
       " Text(0.2, 0.07142857142857142, 'gini = 0.0\\nsamples = 1\\nvalue = [0, 1]'),\n",
       " Text(0.4, 0.07142857142857142, 'gini = 0.0\\nsamples = 1\\nvalue = [1, 0]'),\n",
       " Text(0.4, 0.35714285714285715, 'gini = 0.0\\nsamples = 2\\nvalue = [0, 2]'),\n",
       " Text(0.5, 0.5, 'gini = 0.0\\nsamples = 17\\nvalue = [17, 0]'),\n",
       " Text(0.7, 0.7857142857142857, 'x[1] <= 1.312\\ngini = 0.18\\nsamples = 20\\nvalue = [2, 18]'),\n",
       " Text(0.6, 0.6428571428571429, 'gini = 0.0\\nsamples = 14\\nvalue = [0, 14]'),\n",
       " Text(0.8, 0.6428571428571429, 'x[1] <= 1.714\\ngini = 0.444\\nsamples = 6\\nvalue = [2, 4]'),\n",
       " Text(0.7, 0.5, 'x[0] <= 1.154\\ngini = 0.444\\nsamples = 3\\nvalue = [2, 1]'),\n",
       " Text(0.6, 0.35714285714285715, 'gini = 0.0\\nsamples = 2\\nvalue = [2, 0]'),\n",
       " Text(0.8, 0.35714285714285715, 'gini = 0.0\\nsamples = 1\\nvalue = [0, 1]'),\n",
       " Text(0.9, 0.5, 'gini = 0.0\\nsamples = 3\\nvalue = [0, 3]')]"
      ]
     },
     "execution_count": 130,
     "metadata": {},
     "output_type": "execute_result"
    },
    {
     "data": {
      "image/png": "[encoded data removed]",
      "text/plain": [
       "<Figure size 432x288 with 1 Axes>"
      ]
     },
     "metadata": {
      "needs_background": "light"
     },
     "output_type": "display_data"
    }
   ],
   "source": [
    "plot_tree(clf1)"
   ]
  },
  {
   "cell_type": "code",
   "execution_count": 131,
   "id": "03ede625",
   "metadata": {},
   "outputs": [
    {
     "data": {
      "text/plain": [
       "[Text(0.5925925925925926, 0.9444444444444444, 'x[1] <= 1.432\\ngini = 0.5\\nsamples = 50\\nvalue = [25, 25]'),\n",
       " Text(0.5185185185185185, 0.8333333333333334, 'x[0] <= -2.636\\ngini = 0.469\\nsamples = 40\\nvalue = [15, 25]'),\n",
       " Text(0.3333333333333333, 0.7222222222222222, 'x[1] <= -1.54\\ngini = 0.278\\nsamples = 6\\nvalue = [5, 1]'),\n",
       " Text(0.25925925925925924, 0.6111111111111112, 'gini = 0.0\\nsamples = 1\\nvalue = [0, 1]'),\n",
       " Text(0.4074074074074074, 0.6111111111111112, 'gini = 0.0\\nsamples = 5\\nvalue = [5, 0]'),\n",
       " Text(0.7037037037037037, 0.7222222222222222, 'x[0] <= 0.193\\ngini = 0.415\\nsamples = 34\\nvalue = [10, 24]'),\n",
       " Text(0.5555555555555556, 0.6111111111111112, 'x[0] <= -0.143\\ngini = 0.358\\nsamples = 30\\nvalue = [7, 23]'),\n",
       " Text(0.48148148148148145, 0.5, 'x[1] <= -0.332\\ngini = 0.413\\nsamples = 24\\nvalue = [7, 17]'),\n",
       " Text(0.2962962962962963, 0.3888888888888889, 'x[1] <= -1.985\\ngini = 0.291\\nsamples = 17\\nvalue = [3, 14]'),\n",
       " Text(0.14814814814814814, 0.2777777777777778, 'x[1] <= -2.434\\ngini = 0.444\\nsamples = 6\\nvalue = [2, 4]'),\n",
       " Text(0.07407407407407407, 0.16666666666666666, 'gini = 0.0\\nsamples = 4\\nvalue = [0, 4]'),\n",
       " Text(0.2222222222222222, 0.16666666666666666, 'gini = 0.0\\nsamples = 2\\nvalue = [2, 0]'),\n",
       " Text(0.4444444444444444, 0.2777777777777778, 'x[0] <= -1.527\\ngini = 0.165\\nsamples = 11\\nvalue = [1, 10]'),\n",
       " Text(0.37037037037037035, 0.16666666666666666, 'x[0] <= -1.874\\ngini = 0.32\\nsamples = 5\\nvalue = [1, 4]'),\n",
       " Text(0.2962962962962963, 0.05555555555555555, 'gini = 0.0\\nsamples = 4\\nvalue = [0, 4]'),\n",
       " Text(0.4444444444444444, 0.05555555555555555, 'gini = 0.0\\nsamples = 1\\nvalue = [1, 0]'),\n",
       " Text(0.5185185185185185, 0.16666666666666666, 'gini = 0.0\\nsamples = 6\\nvalue = [0, 6]'),\n",
       " Text(0.6666666666666666, 0.3888888888888889, 'x[1] <= 0.026\\ngini = 0.49\\nsamples = 7\\nvalue = [4, 3]'),\n",
       " Text(0.5925925925925926, 0.2777777777777778, 'gini = 0.0\\nsamples = 2\\nvalue = [2, 0]'),\n",
       " Text(0.7407407407407407, 0.2777777777777778, 'x[0] <= -2.083\\ngini = 0.48\\nsamples = 5\\nvalue = [2, 3]'),\n",
       " Text(0.6666666666666666, 0.16666666666666666, 'gini = 0.0\\nsamples = 2\\nvalue = [0, 2]'),\n",
       " Text(0.8148148148148148, 0.16666666666666666, 'x[1] <= 1.182\\ngini = 0.444\\nsamples = 3\\nvalue = [2, 1]'),\n",
       " Text(0.7407407407407407, 0.05555555555555555, 'gini = 0.0\\nsamples = 2\\nvalue = [2, 0]'),\n",
       " Text(0.8888888888888888, 0.05555555555555555, 'gini = 0.0\\nsamples = 1\\nvalue = [0, 1]'),\n",
       " Text(0.6296296296296297, 0.5, 'gini = 0.0\\nsamples = 6\\nvalue = [0, 6]'),\n",
       " Text(0.8518518518518519, 0.6111111111111112, 'x[0] <= 1.316\\ngini = 0.375\\nsamples = 4\\nvalue = [3, 1]'),\n",
       " Text(0.7777777777777778, 0.5, 'gini = 0.0\\nsamples = 3\\nvalue = [3, 0]'),\n",
       " Text(0.9259259259259259, 0.5, 'gini = 0.0\\nsamples = 1\\nvalue = [0, 1]'),\n",
       " Text(0.6666666666666666, 0.8333333333333334, 'gini = 0.0\\nsamples = 10\\nvalue = [10, 0]')]"
      ]
     },
     "execution_count": 131,
     "metadata": {},
     "output_type": "execute_result"
    },
    {
     "data": {
      "image/png": "[encoded data removed]",
      "text/plain": [
       "<Figure size 432x288 with 1 Axes>"
      ]
     },
     "metadata": {
      "needs_background": "light"
     },
     "output_type": "display_data"
    }
   ],
   "source": [
    "plot_tree(clf2)"
   ]
  },
  {
   "cell_type": "code",
   "execution_count": 132,
   "id": "bb4e28f9",
   "metadata": {},
   "outputs": [
    {
     "data": {
      "text/plain": [
       "[Text(0.4, 0.9375, 'x[1] <= -0.622\\ngini = 0.5\\nsamples = 50\\nvalue = [25, 25]'),\n",
       " Text(0.3, 0.8125, 'gini = 0.0\\nsamples = 17\\nvalue = [17, 0]'),\n",
       " Text(0.5, 0.8125, 'x[1] <= 0.42\\ngini = 0.367\\nsamples = 33\\nvalue = [8, 25]'),\n",
       " Text(0.2, 0.6875, 'x[0] <= -1.461\\ngini = 0.498\\nsamples = 15\\nvalue = [7, 8]'),\n",
       " Text(0.1, 0.5625, 'gini = 0.0\\nsamples = 3\\nvalue = [3, 0]'),\n",
       " Text(0.3, 0.5625, 'x[0] <= -1.14\\ngini = 0.444\\nsamples = 12\\nvalue = [4, 8]'),\n",
       " Text(0.2, 0.4375, 'gini = 0.0\\nsamples = 4\\nvalue = [0, 4]'),\n",
       " Text(0.4, 0.4375, 'x[1] <= -0.544\\ngini = 0.5\\nsamples = 8\\nvalue = [4, 4]'),\n",
       " Text(0.3, 0.3125, 'gini = 0.0\\nsamples = 2\\nvalue = [0, 2]'),\n",
       " Text(0.5, 0.3125, 'x[0] <= -0.408\\ngini = 0.444\\nsamples = 6\\nvalue = [4, 2]'),\n",
       " Text(0.4, 0.1875, 'x[1] <= -0.066\\ngini = 0.444\\nsamples = 3\\nvalue = [1, 2]'),\n",
       " Text(0.3, 0.0625, 'gini = 0.0\\nsamples = 2\\nvalue = [0, 2]'),\n",
       " Text(0.5, 0.0625, 'gini = 0.0\\nsamples = 1\\nvalue = [1, 0]'),\n",
       " Text(0.6, 0.1875, 'gini = 0.0\\nsamples = 3\\nvalue = [3, 0]'),\n",
       " Text(0.8, 0.6875, 'x[0] <= -1.245\\ngini = 0.105\\nsamples = 18\\nvalue = [1, 17]'),\n",
       " Text(0.7, 0.5625, 'x[0] <= -1.497\\ngini = 0.32\\nsamples = 5\\nvalue = [1, 4]'),\n",
       " Text(0.6, 0.4375, 'gini = 0.0\\nsamples = 4\\nvalue = [0, 4]'),\n",
       " Text(0.8, 0.4375, 'gini = 0.0\\nsamples = 1\\nvalue = [1, 0]'),\n",
       " Text(0.9, 0.5625, 'gini = 0.0\\nsamples = 13\\nvalue = [0, 13]')]"
      ]
     },
     "execution_count": 132,
     "metadata": {},
     "output_type": "execute_result"
    },
    {
     "data": {
      "image/png": "[encoded data removed]",
      "text/plain": [
       "<Figure size 432x288 with 1 Axes>"
      ]
     },
     "metadata": {
      "needs_background": "light"
     },
     "output_type": "display_data"
    }
   ],
   "source": [
    "plot_tree(clf3)"
   ]
  },
  {
   "cell_type": "code",
   "execution_count": 136,
   "id": "76fc1d82",
   "metadata": {},
   "outputs": [
    {
     "name": "stderr",
     "output_type": "stream",
     "text": [
      "C:\\Users\\OM\\anaconda3\\lib\\site-packages\\sklearn\\base.py:439: UserWarning: X does not have valid feature names, but DecisionTreeClassifier was fitted with feature names\n",
      "  warnings.warn(\n"
     ]
    },
    {
     "data": {
      "text/plain": [
       "array([0])"
      ]
     },
     "execution_count": 136,
     "metadata": {},
     "output_type": "execute_result"
    }
   ],
   "source": [
    "clf1.predict(np.array([-1.348980,0.000979\t]).reshape(1,2))"
   ]
  },
  {
   "cell_type": "code",
   "execution_count": 137,
   "id": "19733504",
   "metadata": {},
   "outputs": [
    {
     "name": "stderr",
     "output_type": "stream",
     "text": [
      "C:\\Users\\OM\\anaconda3\\lib\\site-packages\\sklearn\\base.py:439: UserWarning: X does not have valid feature names, but DecisionTreeClassifier was fitted with feature names\n",
      "  warnings.warn(\n"
     ]
    },
    {
     "data": {
      "text/plain": [
       "array([0])"
      ]
     },
     "execution_count": 137,
     "metadata": {},
     "output_type": "execute_result"
    }
   ],
   "source": [
    "clf2.predict(np.array([-1.348980,0.000979]).reshape(1,2))"
   ]
  },
  {
   "cell_type": "code",
   "execution_count": 138,
   "id": "73b875eb",
   "metadata": {},
   "outputs": [
    {
     "name": "stderr",
     "output_type": "stream",
     "text": [
      "C:\\Users\\OM\\anaconda3\\lib\\site-packages\\sklearn\\base.py:439: UserWarning: X does not have valid feature names, but DecisionTreeClassifier was fitted with feature names\n",
      "  warnings.warn(\n"
     ]
    },
    {
     "data": {
      "text/plain": [
       "array([1])"
      ]
     },
     "execution_count": 138,
     "metadata": {},
     "output_type": "execute_result"
    }
   ],
   "source": [
    "clf3.predict(np.array([-1.348980,0.000979]).reshape(1,2))"
   ]
  },
  {
   "cell_type": "code",
   "execution_count": null,
   "id": "713f1373",
   "metadata": {},
   "outputs": [],
   "source": []
  }
 ],
 "metadata": {
  "kernelspec": {
   "display_name": "Python 3",
   "language": "python",
   "name": "python3"
  },
  "language_info": {
   "codemirror_mode": {
    "name": "ipython",
    "version": 3
   },
   "file_extension": ".py",
   "mimetype": "text/x-python",
   "name": "python",
   "nbconvert_exporter": "python",
   "pygments_lexer": "ipython3",
   "version": "3.8.8"
  }
 },
 "nbformat": 4,
 "nbformat_minor": 5
}
